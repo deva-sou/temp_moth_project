{
 "cells": [
  {
   "cell_type": "markdown",
   "metadata": {},
   "source": [
    "# Library Imports"
   ]
  },
  {
   "cell_type": "code",
   "execution_count": 35,
   "metadata": {},
   "outputs": [],
   "source": [
    "import pandas as pd\n",
    "import seaborn as sns\n",
    "import requests"
   ]
  },
  {
   "cell_type": "markdown",
   "metadata": {},
   "source": [
    "# Data Imports"
   ]
  },
  {
   "cell_type": "code",
   "execution_count": 36,
   "metadata": {},
   "outputs": [
    {
     "name": "stdout",
     "output_type": "stream",
     "text": [
      "(3145, 4) (3271, 4)\n"
     ]
    }
   ],
   "source": [
    "df_raw_qc = pd.read_csv('/Users/devasou/code/temp_moth_project/src/database/datacount_quebec-vermont.csv')\n",
    "df_raw_uk = pd.read_csv('/Users/devasou/code/temp_moth_project/src/database/datacount_uk-denmark.csv')\n",
    "df_example_from_FG = pd.read_csv('/Users/devasou/code/temp_moth_project/src/database/Fieldguide Lep Species Example.csv')\n",
    "print(df_raw_qc.shape, df_raw_uk.shape)"
   ]
  },
  {
   "cell_type": "markdown",
   "metadata": {},
   "source": [
    "## Tests on -1 data"
   ]
  },
  {
   "cell_type": "code",
   "execution_count": 37,
   "metadata": {},
   "outputs": [
    {
     "name": "stdout",
     "output_type": "stream",
     "text": [
      "33 0\n"
     ]
    }
   ],
   "source": [
    "remove_qc = df_raw_qc.loc[df_raw_qc['count'] == -1]\n",
    "remove_uk = df_raw_uk.loc[df_raw_uk['count'] == -1]\n",
    "print(remove_qc.shape[0],remove_uk.shape[0])"
   ]
  },
  {
   "cell_type": "markdown",
   "metadata": {},
   "source": [
    "## Merge datasets"
   ]
  },
  {
   "cell_type": "code",
   "execution_count": 38,
   "metadata": {},
   "outputs": [
    {
     "data": {
      "text/plain": [
       "(6416, 4)"
      ]
     },
     "execution_count": 38,
     "metadata": {},
     "output_type": "execute_result"
    }
   ],
   "source": [
    "frames = [df_raw_qc, df_raw_uk]\n",
    "df = pd.concat(frames)\n",
    "df.shape"
   ]
  },
  {
   "cell_type": "markdown",
   "metadata": {},
   "source": [
    "### TO DO\n",
    "\n",
    "1) ADD FG DATA TO OUR SERVER \n",
    "- establish a connection on cyberduck with FG database\n",
    "- ask which data you have on FG depending on our species\n",
    "    - from our dataset: list of species; count of species\n",
    "    - from FG: list of similar species; their ID; count of them\n",
    "- create a webdataset (from our server)"
   ]
  },
  {
   "cell_type": "markdown",
   "metadata": {},
   "source": [
    "# Dataset comparaison"
   ]
  },
  {
   "cell_type": "code",
   "execution_count": 39,
   "metadata": {},
   "outputs": [
    {
     "name": "stdout",
     "output_type": "stream",
     "text": [
      "observation_id            79\n",
      "photo_id                  79\n",
      "category_id               68\n",
      "category_full_name        68\n",
      "category_species_name     68\n",
      "pk                       100\n",
      "image_url                100\n",
      "image_type                 3\n",
      "width                     51\n",
      "height                    67\n",
      "crop_info                 77\n",
      "meta                      52\n",
      "dominant_color           100\n",
      "sort_order                 5\n",
      "created_at                 0\n",
      "dtype: int64\n",
      "\n",
      "\n",
      "taxon_key_gbif_id      6037\n",
      "search_species_name    6097\n",
      "gbif_species_name      5927\n",
      "count                   700\n",
      "dtype: int64\n"
     ]
    }
   ],
   "source": [
    "''' \n",
    "Do a comparison of the two datasets\n",
    "For each one take the name in common and the count of Fieldguide\n",
    "'''\n",
    "\n",
    "print(df_example_from_FG.nunique())\n",
    "print(\"\\n\")\n",
    "print(df.nunique())"
   ]
  },
  {
   "cell_type": "code",
   "execution_count": 40,
   "metadata": {},
   "outputs": [
    {
     "name": "stdout",
     "output_type": "stream",
     "text": [
      "(40, 15)\n"
     ]
    }
   ],
   "source": [
    "# Create a sub df of FG with all the images corresponding to the species in our dataset\n",
    "matching_FG_df = df_example_from_FG[df_example_from_FG.category_species_name.isin(df.search_species_name)]\n",
    "# Get the images to download\n",
    "print(matching_FG_df.shape)\n",
    "l = list(matching_FG_df.image_url)"
   ]
  },
  {
   "cell_type": "code",
   "execution_count": 41,
   "metadata": {},
   "outputs": [
    {
     "name": "stdout",
     "output_type": "stream",
     "text": [
      "['http://production-chroma.s3.amazonaws.com/photos/5cf6d953fe9c0e088df4243e/c51d6ab9ce4846e99a00bffdef7abd8b.jpg', 'http://production-chroma.s3.amazonaws.com/photos/5cf6d965fe9c0e088df42458/838f8a3befb3472db8e48a0d719a87db.jpg', 'https://production-chroma.s3.amazonaws.com/photos/datahut-fieldguide/inaturalist/2018-03-05/2112509_1.jpg', 'http://production-chroma.s3.amazonaws.com/photos/20f6d15cfe9c0e0369729a55/7de1db57638c4e4f8d0d16946ad2b6bc.jpg', 'https://production-chroma.s3.amazonaws.com/photos/datahut-fieldguide/inaturalist/2018-03-05/4057033_1.jpeg', 'https://production-chroma.s3.amazonaws.com/photos/datahut-fieldguide/inaturalist/2018-05-07/11426821_1.jpg', 'https://production-chroma.s3.amazonaws.com/photos/datahut-fieldguide/inaturalist/2018-02-22/9490222_1.jpg', 'https://production-chroma.s3.amazonaws.com/photos/datahut-fieldguide/inaturalist/2018-03-02/1214530_1.jpg', 'https://production-chroma.s3.amazonaws.com/photos/datahut-fieldguide/inaturalist/2018-03-05/5520082_1.jpg', 'http://production-chroma.s3.amazonaws.com/photos/47e1a9f8fe9c0e6dd8c36ab7/f910189470474d9e9bdf3569dd725f78.jpg', 'https://production-chroma.s3.amazonaws.com/photos/datahut-fieldguide/inaturalist/2018-03-05/2937047_1.JPG', 'http://production-chroma.s3.amazonaws.com/photos/5d3b5c8ffe9c0e0e438fa699/5e1019c6065041d7aaf2f794bdf2b212.jpg', 'http://production-chroma.s3.amazonaws.com/photos/5d3b5c8ffe9c0e0e438fa699/399dd951061b41ff90c53bbb9731d98c.jpg', 'http://production-chroma.s3.amazonaws.com/photos/5d3b5c8ffe9c0e0e438fa699/5800fee296f54993871dfca0441e18d7.jpg', 'https://production-chroma.s3.amazonaws.com/photos/datahut-fieldguide/inaturalist/2018-02-22/9806786_2.jpg', 'https://production-chroma.s3.amazonaws.com/photos/datahut-fieldguide/inaturalist/2018-02-22/9806786_1.jpg', 'https://production-chroma.s3.amazonaws.com/photos/datahut-fieldguide/inaturalist/2018-03-05/5595461_1.jpg', 'http://production-chroma.s3.amazonaws.com/photos/49654283fe9c0e03697250ee/081111ba61594ff19c03a89b3d82d5d1.jpg', 'http://production-chroma.s3.amazonaws.com/photos/49c974c0fe9c0e0369725077/b84212e7fa2448de88c3a22a2e542923.jpg', 'https://production-chroma.s3.amazonaws.com/photos/datahut-fieldguide/inaturalist/2018-03-23/10252836_1.jpg', 'https://production-chroma.s3.amazonaws.com/photos/datahut-fieldguide/inaturalist/2018-03-05/2561982_1.jpg', 'http://production-chroma.s3.amazonaws.com/photos/4a343d01fe9c0e036972227e/0307aaf2ef404389a6db9a688c4e1249.jpg', 'https://production-chroma.s3.amazonaws.com/photos/datahut-fieldguide/inaturalist/2018-03-05/8499109_1.jpg', 'http://production-chroma.s3.amazonaws.com/photos/4ab02a6afe9c0e6dd8c36f20/fef75424fe1a4e7d88a799c817b6fdec.jpg', 'https://production-chroma.s3.amazonaws.com/photos/datahut-fieldguide/inaturalist/2018-03-02/5585980_2.jpg', 'https://production-chroma.s3.amazonaws.com/photos/datahut-fieldguide/inaturalist/2018-03-02/5585980_1.jpg', 'https://production-chroma.s3.amazonaws.com/photos/datahut-fieldguide/inaturalist/2018-05-07/11089904_1.jpeg', 'https://production-chroma.s3.amazonaws.com/photos/datahut-fieldguide/inaturalist/2018-03-05/5572079_1.jpg', 'http://production-chroma.s3.amazonaws.com/photos/4b1c4508fe9c0e0369725058/3fe54d5a0d7e4ba08fb4f5bd4820c793.jpg', 'https://production-chroma.s3.amazonaws.com/photos/datahut-fieldguide/inaturalist/2018-03-05/2510763_1.jpg', 'https://production-chroma.s3.amazonaws.com/photos/datahut-fieldguide/inaturalist/2018-03-05/2510773_1.jpg', 'https://production-chroma.s3.amazonaws.com/photos/datahut-fieldguide/inaturalist/2018-03-05/2510765_1.jpg', 'https://production-chroma.s3.amazonaws.com/photos/datahut-fieldguide/inaturalist/2018-03-05/2510769_1.jpg', 'http://production-chroma.s3.amazonaws.com/photos/4b22dd85fe9c0e0369726ffb/c498dae0ff4c424da408a3a777e6179b.jpg', 'http://production-chroma.s3.amazonaws.com/photos/4b22dd85fe9c0e0369726ffb/f04e25ae664345aebbe5e287f9d938c3.jpg', 'https://production-chroma.s3.amazonaws.com/photos/datahut-fieldguide/inaturalist/2018-03-05/2512412_1.jpg', 'https://production-chroma.s3.amazonaws.com/photos/datahut-fieldguide/inaturalist/2018-03-02/2512387_1.jpg', 'https://production-chroma.s3.amazonaws.com/photos/datahut-fieldguide/inaturalist/2018-03-02/2512479_1.jpg', 'https://production-chroma.s3.amazonaws.com/photos/datahut-fieldguide/inaturalist/2018-03-05/2512527_1.jpg', 'https://production-chroma.s3.amazonaws.com/photos/datahut-fieldguide/inaturalist/2018-03-02/5559121_1.jpg']\n"
     ]
    }
   ],
   "source": [
    "print(l)"
   ]
  },
  {
   "cell_type": "markdown",
   "metadata": {},
   "source": [
    "# Create a webdataset"
   ]
  },
  {
   "cell_type": "markdown",
   "metadata": {},
   "source": []
  }
 ],
 "metadata": {
  "kernelspec": {
   "display_name": "Python 3.9.6 64-bit",
   "language": "python",
   "name": "python3"
  },
  "language_info": {
   "codemirror_mode": {
    "name": "ipython",
    "version": 3
   },
   "file_extension": ".py",
   "mimetype": "text/x-python",
   "name": "python",
   "nbconvert_exporter": "python",
   "pygments_lexer": "ipython3",
   "version": "3.9.6"
  },
  "vscode": {
   "interpreter": {
    "hash": "31f2aee4e71d21fbe5cf8b01ff0e069b9275f58929596ceb00d14d90e3e16cd6"
   }
  }
 },
 "nbformat": 4,
 "nbformat_minor": 2
}
