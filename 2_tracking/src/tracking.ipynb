{
 "cells": [
  {
   "attachments": {},
   "cell_type": "markdown",
   "metadata": {},
   "source": [
    "# Imports"
   ]
  },
  {
   "cell_type": "code",
   "execution_count": 83,
   "metadata": {},
   "outputs": [],
   "source": [
    "import pandas as pd\n",
    "import copy\n",
    "import numpy as np"
   ]
  },
  {
   "attachments": {},
   "cell_type": "markdown",
   "metadata": {},
   "source": [
    "# Define strategies"
   ]
  },
  {
   "cell_type": "code",
   "execution_count": 84,
   "metadata": {},
   "outputs": [],
   "source": [
    "def calculate_best_confidence_max_value(df,df_specific_id):\n",
    "    '''\n",
    "    Calculate the best confidence score based on the strategy max value. \n",
    "    @params df: data where 1 row is an image where tracking and classification where made \n",
    "    @paramns df_specific_id: data filtered on a specific track id\n",
    "    Best test: track_id == 1\n",
    "    '''\n",
    "    max_confidence_index = df_specific_id['confidence'].idxmax()\n",
    "    new_label = df.iloc[max_confidence_index,df.columns.get_loc(\"subclass\")]\n",
    "    return max_confidence_index,new_label\n",
    "\n",
    "def calculate_best_confidence_most_frequent(df,df_specific_id):\n",
    "    '''\n",
    "    Calculate the best confidence score based on the strategy most frequent\n",
    "    @params df: data where 1 row is an image where tracking and classification where made \n",
    "    @paramns df_specific_id: data filtered on a specific track id\n",
    "    Best test: track_id == 39\n",
    "    '''\n",
    "    most_frequent_species = df_specific_id.subclass.mode()\n",
    "    if most_frequent_species.size != 1:\n",
    "        pass # TO DO: if two most values -> get the one with best confidence\n",
    "    else:\n",
    "        new_label = most_frequent_species[0]\n",
    "    most_frequent_specie = df_specific_id[df_specific_id['subclass'] == new_label]\n",
    "    max_confidence_index = most_frequent_specie['confidence'].idxmax()\n",
    "    return max_confidence_index,new_label\n",
    "\n",
    "def calculate_best_confidence_avg_max(df,df_specific_id):\n",
    "    pass"
   ]
  },
  {
   "attachments": {},
   "cell_type": "markdown",
   "metadata": {},
   "source": [
    "# Main"
   ]
  },
  {
   "cell_type": "code",
   "execution_count": 92,
   "metadata": {},
   "outputs": [],
   "source": [
    "def count_species(csv):\n",
    "    '''\n",
    "    Count unique individual per species\n",
    "    @params csv: take a csv\n",
    "    '''\n",
    "    df = pd.read_csv(csv)\n",
    "    df_count = df.groupby(['subclass']).size().sort_values(ascending=False)\n",
    "    df_count.to_csv('count.txt',header=False)\n",
    "    return df_count\n",
    "\n",
    "def modify_label_confidence(df,df_specific_id):\n",
    "    max_confidence_index,new_label = calculate_best_confidence_most_frequent(df,df_specific_id)\n",
    "    #print(f\"Selected index and value: {new_label}: {max_confidence_index}\")\n",
    "    for index, row in df_specific_id.iterrows():\n",
    "        if (index != max_confidence_index) : # & (row['subclass'] != new_label)\n",
    "            df.iloc[index, df.columns.get_loc(\"subclass\")] = new_label\n",
    "            df.iloc[index, df.columns.get_loc(\"confidence\")] = 'smoothed'\n",
    "        \n",
    "def smoothing_confidence_with_tracking(df_raw):\n",
    "    '''\n",
    "    Use the tracking insect results to smooth the classification\n",
    "    \n",
    "    '''\n",
    "    df = df_raw.copy()\n",
    "    #max_id_tracked = int(df['track_id'].max())\n",
    "    max_id_tracked = 39\n",
    "    for track_id in range(39,max_id_tracked+1):\n",
    "        df_ids_raw = df[df['track_id'] == track_id]\n",
    "        if df_ids_raw.shape[0] > 1:\n",
    "            #print(\"\\n\", df_ids_raw[['subclass','confidence']])\n",
    "            df_specific_id = df_ids_raw.astype({'confidence': int}) # necessary, otherwise: confidence = object instead of int\n",
    "            #print(df_specific_id[[\"image\",\"track_id\",\"subclass\", \"confidence\"]])\n",
    "            #print(f\"\\t{track_id}\")\n",
    "            #print('size',df_specific_id.subclass.mode())\n",
    "            modify_label_confidence(df,df_specific_id)\n",
    "    #df_final = df.mask(df == '') # replace empty by nan\n",
    "    #print('Df modified')\n",
    "    #print(df[df['track_id'] == track_id])\n",
    "    return df\n",
    "\n",
    "def main():\n",
    "    df_raw = pd.read_csv(\"~/code/moth_project/0_database/tracking/track_localize_classify_annotation-2022_05_13.csv\")\n",
    "    df_modified = smoothing_confidence_with_tracking(df_raw)\n",
    "    return df_modified\n"
   ]
  },
  {
   "cell_type": "code",
   "execution_count": 93,
   "metadata": {},
   "outputs": [],
   "source": [
    "df = main()"
   ]
  },
  {
   "cell_type": "code",
   "execution_count": 94,
   "metadata": {},
   "outputs": [],
   "source": [
    "df.to_csv('test_most_frequent.csv')"
   ]
  },
  {
   "cell_type": "code",
   "execution_count": null,
   "metadata": {},
   "outputs": [],
   "source": []
  }
 ],
 "metadata": {
  "kernelspec": {
   "display_name": "venv_moth_project",
   "language": "python",
   "name": "python3"
  },
  "language_info": {
   "codemirror_mode": {
    "name": "ipython",
    "version": 3
   },
   "file_extension": ".py",
   "mimetype": "text/x-python",
   "name": "python",
   "nbconvert_exporter": "python",
   "pygments_lexer": "ipython3",
   "version": "3.10.6"
  },
  "orig_nbformat": 4,
  "vscode": {
   "interpreter": {
    "hash": "1367256a1b697bda13cf1182dbbe4a5d0b31a9be7d5cfcef01ad1318d83fb521"
   }
  }
 },
 "nbformat": 4,
 "nbformat_minor": 2
}
