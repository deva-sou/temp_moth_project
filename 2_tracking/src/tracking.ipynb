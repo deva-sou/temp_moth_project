{
 "cells": [
  {
   "attachments": {},
   "cell_type": "markdown",
   "metadata": {},
   "source": [
    "# Imports"
   ]
  },
  {
   "cell_type": "code",
   "execution_count": 6,
   "metadata": {},
   "outputs": [],
   "source": [
    "import pandas as pd\n",
    "import copy\n",
    "import numpy as np\n",
    "import pickle"
   ]
  },
  {
   "attachments": {},
   "cell_type": "markdown",
   "metadata": {},
   "source": [
    "# TODO"
   ]
  },
  {
   "attachments": {},
   "cell_type": "markdown",
   "metadata": {},
   "source": [
    "Regarder pourquoi on a pas l'index dans le df_mean_test.pkl"
   ]
  },
  {
   "attachments": {},
   "cell_type": "markdown",
   "metadata": {},
   "source": [
    "# Define strategies"
   ]
  },
  {
   "cell_type": "code",
   "execution_count": 183,
   "metadata": {},
   "outputs": [],
   "source": [
    "def calculate_best_confidence_max_value(df,df_specific_id):\n",
    "    '''\n",
    "    Calculate the best confidence score based on the strategy max value. \n",
    "    @params df: data where 1 row is an image where tracking and classification where made \n",
    "    @paramns df_specific_id: data filtered on a specific track id\n",
    "    Best test: track_id == 1\n",
    "    '''\n",
    "    max_confidence_index = df_specific_id['confidence'].idxmax()\n",
    "    new_label = df.iloc[max_confidence_index,df.columns.get_loc(\"subclass\")]\n",
    "    return df_specific_id,max_confidence_index,new_label\n",
    "\n",
    "def calculate_best_confidence_most_frequent(df,df_specific_id):\n",
    "    '''\n",
    "    Calculate the best confidence score based on the strategy most frequent\n",
    "    @params df: data where 1 row is an image where tracking and classification where made \n",
    "    @paramns df_specific_id: data filtered on a specific track id\n",
    "    Best test: track_id == 39\n",
    "    '''\n",
    "    most_frequent_species = df_specific_id.subclass.mode()\n",
    "    if most_frequent_species.size != 1:\n",
    "        pass # TO DO: if two most values -> get the one with best confidence\n",
    "    else:\n",
    "        new_label = most_frequent_species[0]\n",
    "    most_frequent_specie = df_specific_id[df_specific_id['subclass'] == new_label]\n",
    "    max_confidence_index = most_frequent_specie['confidence'].idxmax()\n",
    "    return df_specific_id,max_confidence_index,new_label\n",
    "\n",
    "def calculate_best_confidence_avg_max(df,df_specific_id):\n",
    "    '''\n",
    "    Calculate the mean for each unique value fo subclass\n",
    "    Return the specie name and the index\n",
    "    '''\n",
    "    #first create the subdataframe with the indexes saved.\n",
    "    avgs = df_specific_id.reset_index().groupby(['subclass','index']).agg({'confidence': ['mean']}).reset_index().set_index('index')\n",
    "    avgs.columns = ['subclass','confidence']\n",
    "    avgs.index.name = None\n",
    "    avgs.to_pickle(\"../../0_database/results/avgs_raw.pkl\")\n",
    "\n",
    "    #second get the avg of the max confident label\n",
    "    df_mean = avgs.assign(mean= avgs.groupby(['subclass']).transform('mean'))\n",
    "    df_mean = df_mean.drop(columns=['confidence'])\n",
    "    df_mean = df_mean.rename(columns={'mean':'confidence'})\n",
    "    df_mean.to_pickle(\"../../0_database/results/df_mean.pkl\")   \n",
    "\n",
    "    #third get the max confidence index and new label\n",
    "    max_confidence_index = df_mean['confidence'].idxmax()\n",
    "    new_label = df_mean.loc[max_confidence_index].values[0]\n",
    "\n",
    "    return df_mean,max_confidence_index,new_label"
   ]
  },
  {
   "attachments": {},
   "cell_type": "markdown",
   "metadata": {},
   "source": [
    "# Main"
   ]
  },
  {
   "cell_type": "code",
   "execution_count": 184,
   "metadata": {},
   "outputs": [],
   "source": [
    "def modify_label_confidence(df,df_specific_id):\n",
    "    '''\n",
    "    Modify the label and confidence depending on the strategies. \n",
    "    From the dataframe specific to a trackID, we extract the best choice by the classification algorithm for a specific choice strategy \n",
    "    Then for each row of the specific dataframe we extract the index and make changes in the base dataframe.\n",
    "     \n",
    "    '''\n",
    "    df_specific_id_modified,max_confidence_index,new_label = calculate_best_confidence_avg_max(df,df_specific_id)\n",
    "    for index, row in df_specific_id_modified.iterrows():\n",
    "        if (index != max_confidence_index) :\n",
    "            df.iloc[index, df.columns.get_loc(\"subclass\")] = new_label\n",
    "            df.iloc[index, df.columns.get_loc(\"confidence\")] = 'smoothed'\n",
    "        \n",
    "def smoothing_confidence_with_tracking(df_raw):\n",
    "    '''\n",
    "    Use the tracking insect results to smooth the classification.\n",
    "    For each trackID, we created a sub-dataframe based on the specific trackID. \n",
    "    Then modify labels and confidence based on a specific strategy with \"modify_label_confidence()\"\n",
    "    #TODO: replace empty by nan\n",
    "    '''\n",
    "    df = df_raw.copy()\n",
    "    #max_id_tracked = int(df['track_id'].max())\n",
    "    max_id_tracked = 39 #To test a specific trackID\n",
    "    for track_id in range(39,max_id_tracked+1):\n",
    "        df_ids_raw = df[df['track_id'] == track_id]\n",
    "        if df_ids_raw.shape[0] > 1:\n",
    "            df_specific_id = df_ids_raw.astype({'confidence': int}) #necessary, otherwise: confidence = object instead of int\n",
    "            modify_label_confidence(df,df_specific_id)\n",
    "    return df\n",
    "\n",
    "def count_species(csv):\n",
    "    '''\n",
    "    Count unique individual per species\n",
    "    '''\n",
    "    df = pd.read_csv(csv)\n",
    "    df_count = df.groupby(['subclass']).size().sort_values(ascending=False)\n",
    "    df_count.to_csv('count.txt',header=False)\n",
    "    return df_count\n"
   ]
  },
  {
   "cell_type": "code",
   "execution_count": 185,
   "metadata": {},
   "outputs": [],
   "source": [
    "def main():\n",
    "    df_raw = pd.read_csv(\"../../0_database/tracking/track_localize_classify_annotation-2022_05_13.csv\")\n",
    "    df_modified = smoothing_confidence_with_tracking(df_raw)\n",
    "    return df_modified"
   ]
  },
  {
   "cell_type": "code",
   "execution_count": 186,
   "metadata": {},
   "outputs": [],
   "source": [
    "df = main()"
   ]
  },
  {
   "cell_type": "code",
   "execution_count": null,
   "metadata": {},
   "outputs": [],
   "source": [
    "df_ids_raw = df[df['track_id'] == 39]\n",
    "df_ids_raw"
   ]
  },
  {
   "cell_type": "code",
   "execution_count": 11,
   "metadata": {},
   "outputs": [],
   "source": [
    "df.to_csv('0_database/results/test_most_frequent.csv')"
   ]
  },
  {
   "attachments": {},
   "cell_type": "markdown",
   "metadata": {},
   "source": [
    "# Test on pickle"
   ]
  },
  {
   "cell_type": "code",
   "execution_count": 72,
   "metadata": {},
   "outputs": [],
   "source": [
    "_ = pd.read_pickle(\"../../0_database/results/avgs_test.pkl\")"
   ]
  },
  {
   "cell_type": "code",
   "execution_count": 73,
   "metadata": {},
   "outputs": [
    {
     "data": {
      "text/html": [
       "<div>\n",
       "<style scoped>\n",
       "    .dataframe tbody tr th:only-of-type {\n",
       "        vertical-align: middle;\n",
       "    }\n",
       "\n",
       "    .dataframe tbody tr th {\n",
       "        vertical-align: top;\n",
       "    }\n",
       "\n",
       "    .dataframe thead th {\n",
       "        text-align: right;\n",
       "    }\n",
       "</style>\n",
       "<table border=\"1\" class=\"dataframe\">\n",
       "  <thead>\n",
       "    <tr style=\"text-align: right;\">\n",
       "      <th></th>\n",
       "      <th>subclass</th>\n",
       "      <th>confidence</th>\n",
       "    </tr>\n",
       "  </thead>\n",
       "  <tbody>\n",
       "    <tr>\n",
       "      <th>2027</th>\n",
       "      <td>Acleris variana</td>\n",
       "      <td>17.0</td>\n",
       "    </tr>\n",
       "    <tr>\n",
       "      <th>2103</th>\n",
       "      <td>Alypia octomaculata</td>\n",
       "      <td>15.0</td>\n",
       "    </tr>\n",
       "    <tr>\n",
       "      <th>1994</th>\n",
       "      <td>Archips argyrospila</td>\n",
       "      <td>16.0</td>\n",
       "    </tr>\n",
       "    <tr>\n",
       "      <th>2072</th>\n",
       "      <td>Arctia parthenos</td>\n",
       "      <td>64.0</td>\n",
       "    </tr>\n",
       "    <tr>\n",
       "      <th>2116</th>\n",
       "      <td>Argyrotaenia velutinana</td>\n",
       "      <td>62.0</td>\n",
       "    </tr>\n",
       "    <tr>\n",
       "      <th>2017</th>\n",
       "      <td>Catocala ilia</td>\n",
       "      <td>10.0</td>\n",
       "    </tr>\n",
       "    <tr>\n",
       "      <th>2046</th>\n",
       "      <td>Euclea delphinii</td>\n",
       "      <td>26.0</td>\n",
       "    </tr>\n",
       "    <tr>\n",
       "      <th>2127</th>\n",
       "      <td>Eudryas unio</td>\n",
       "      <td>25.0</td>\n",
       "    </tr>\n",
       "    <tr>\n",
       "      <th>2095</th>\n",
       "      <td>Haploa contigua</td>\n",
       "      <td>8.0</td>\n",
       "    </tr>\n",
       "    <tr>\n",
       "      <th>2034</th>\n",
       "      <td>Hemaris gracilis</td>\n",
       "      <td>45.0</td>\n",
       "    </tr>\n",
       "    <tr>\n",
       "      <th>2082</th>\n",
       "      <td>Hemaris gracilis</td>\n",
       "      <td>26.0</td>\n",
       "    </tr>\n",
       "    <tr>\n",
       "      <th>2006</th>\n",
       "      <td>Phobetron pithecium</td>\n",
       "      <td>14.0</td>\n",
       "    </tr>\n",
       "    <tr>\n",
       "      <th>2059</th>\n",
       "      <td>Thyris maculata</td>\n",
       "      <td>40.0</td>\n",
       "    </tr>\n",
       "  </tbody>\n",
       "</table>\n",
       "</div>"
      ],
      "text/plain": [
       "                     subclass  confidence\n",
       "2027          Acleris variana        17.0\n",
       "2103      Alypia octomaculata        15.0\n",
       "1994      Archips argyrospila        16.0\n",
       "2072         Arctia parthenos        64.0\n",
       "2116  Argyrotaenia velutinana        62.0\n",
       "2017            Catocala ilia        10.0\n",
       "2046         Euclea delphinii        26.0\n",
       "2127             Eudryas unio        25.0\n",
       "2095          Haploa contigua         8.0\n",
       "2034         Hemaris gracilis        45.0\n",
       "2082         Hemaris gracilis        26.0\n",
       "2006      Phobetron pithecium        14.0\n",
       "2059          Thyris maculata        40.0"
      ]
     },
     "execution_count": 73,
     "metadata": {},
     "output_type": "execute_result"
    }
   ],
   "source": [
    "_"
   ]
  }
 ],
 "metadata": {
  "kernelspec": {
   "display_name": "venv_moth_project",
   "language": "python",
   "name": "python3"
  },
  "language_info": {
   "codemirror_mode": {
    "name": "ipython",
    "version": 3
   },
   "file_extension": ".py",
   "mimetype": "text/x-python",
   "name": "python",
   "nbconvert_exporter": "python",
   "pygments_lexer": "ipython3",
   "version": "3.10.6 (main, Oct 22 2022, 12:38:04) [Clang 14.0.0 (clang-1400.0.29.102)]"
  },
  "orig_nbformat": 4,
  "vscode": {
   "interpreter": {
    "hash": "1367256a1b697bda13cf1182dbbe4a5d0b31a9be7d5cfcef01ad1318d83fb521"
   }
  }
 },
 "nbformat": 4,
 "nbformat_minor": 2
}
