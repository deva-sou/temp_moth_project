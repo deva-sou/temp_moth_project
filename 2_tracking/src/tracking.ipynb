{
 "cells": [
  {
   "attachments": {},
   "cell_type": "markdown",
   "metadata": {},
   "source": [
    "# Imports"
   ]
  },
  {
   "cell_type": "code",
   "execution_count": 8,
   "metadata": {},
   "outputs": [],
   "source": [
    "import pandas as pd\n",
    "import copy"
   ]
  },
  {
   "cell_type": "code",
   "execution_count": 10,
   "metadata": {},
   "outputs": [
    {
     "data": {
      "text/html": [
       "<div>\n",
       "<style scoped>\n",
       "    .dataframe tbody tr th:only-of-type {\n",
       "        vertical-align: middle;\n",
       "    }\n",
       "\n",
       "    .dataframe tbody tr th {\n",
       "        vertical-align: top;\n",
       "    }\n",
       "\n",
       "    .dataframe thead th {\n",
       "        text-align: right;\n",
       "    }\n",
       "</style>\n",
       "<table border=\"1\" class=\"dataframe\">\n",
       "  <thead>\n",
       "    <tr style=\"text-align: right;\">\n",
       "      <th></th>\n",
       "      <th>image</th>\n",
       "      <th>track_id</th>\n",
       "      <th>bb_topleft_x</th>\n",
       "      <th>bb_topleft_y</th>\n",
       "      <th>bb_botright_x</th>\n",
       "      <th>bb_botright_y</th>\n",
       "      <th>bb_centre_x</th>\n",
       "      <th>bb_centre_y</th>\n",
       "      <th>class</th>\n",
       "      <th>subclass</th>\n",
       "      <th>confidence</th>\n",
       "    </tr>\n",
       "  </thead>\n",
       "  <tbody>\n",
       "    <tr>\n",
       "      <th>0</th>\n",
       "      <td>20220513203542-00-01.jpg</td>\n",
       "      <td>NaN</td>\n",
       "      <td>3422</td>\n",
       "      <td>958</td>\n",
       "      <td>3550</td>\n",
       "      <td>1106</td>\n",
       "      <td>3486</td>\n",
       "      <td>1032</td>\n",
       "      <td>nonmoth</td>\n",
       "      <td>nonmoth</td>\n",
       "      <td>95</td>\n",
       "    </tr>\n",
       "    <tr>\n",
       "      <th>1</th>\n",
       "      <td>20220513203542-00-01.jpg</td>\n",
       "      <td>NaN</td>\n",
       "      <td>620</td>\n",
       "      <td>971</td>\n",
       "      <td>744</td>\n",
       "      <td>1110</td>\n",
       "      <td>682</td>\n",
       "      <td>1040</td>\n",
       "      <td>nonmoth</td>\n",
       "      <td>nonmoth</td>\n",
       "      <td>94</td>\n",
       "    </tr>\n",
       "    <tr>\n",
       "      <th>2</th>\n",
       "      <td>20220513203542-00-01.jpg</td>\n",
       "      <td>NaN</td>\n",
       "      <td>2977</td>\n",
       "      <td>805</td>\n",
       "      <td>3095</td>\n",
       "      <td>933</td>\n",
       "      <td>3036</td>\n",
       "      <td>869</td>\n",
       "      <td>nonmoth</td>\n",
       "      <td>nonmoth</td>\n",
       "      <td>94</td>\n",
       "    </tr>\n",
       "  </tbody>\n",
       "</table>\n",
       "</div>"
      ],
      "text/plain": [
       "                      image  track_id  bb_topleft_x  bb_topleft_y  \\\n",
       "0  20220513203542-00-01.jpg       NaN          3422           958   \n",
       "1  20220513203542-00-01.jpg       NaN           620           971   \n",
       "2  20220513203542-00-01.jpg       NaN          2977           805   \n",
       "\n",
       "   bb_botright_x  bb_botright_y  bb_centre_x  bb_centre_y    class subclass  \\\n",
       "0           3550           1106         3486         1032  nonmoth  nonmoth   \n",
       "1            744           1110          682         1040  nonmoth  nonmoth   \n",
       "2           3095            933         3036          869  nonmoth  nonmoth   \n",
       "\n",
       "   confidence  \n",
       "0          95  \n",
       "1          94  \n",
       "2          94  "
      ]
     },
     "execution_count": 10,
     "metadata": {},
     "output_type": "execute_result"
    }
   ],
   "source": [
    "df_raw = pd.read_csv(\"~/code/moth_project/0_database/tracking/track_localize_classify_annotation-2022_05_13.csv\")\n",
    "#df_raw.head(30)\n",
    "df = df_raw.copy()\n",
    "df_raw.head(3)"
   ]
  },
  {
   "cell_type": "code",
   "execution_count": null,
   "metadata": {},
   "outputs": [],
   "source": [
    "def trackIDS(df):\n",
    "    pass\n",
    "def searching_for_same_species():\n",
    "    pass\n",
    "def calculate_threshold():\n",
    "    pass\n",
    "def modify_IDs():\n",
    "    pass\n",
    "def apply_IDs_modification():\n",
    "    searching_for_same_species()\n",
    "    calculate_threshold()\n",
    "    modify_IDs()\n",
    "    pass\n",
    "\n",
    "def main():\n",
    "    '''\n",
    "    TODO: \n",
    "    1- Extract the track IDs of moths. \n",
    "    2- For each track ID, search on the image near by if another bbox with the same label and a good confidence score is here. Then calculate the cost function.\n",
    "    3- If cost function is below the threshold, apply the modification of the track ID on each image.\n",
    "    '''\n",
    "    ids = trackIDS(df)\n",
    "    apply_IDs_modification()\n",
    "    \n",
    "    pass\n",
    "\n",
    "main()"
   ]
  }
 ],
 "metadata": {
  "kernelspec": {
   "display_name": "Python 3",
   "language": "python",
   "name": "python3"
  },
  "language_info": {
   "codemirror_mode": {
    "name": "ipython",
    "version": 3
   },
   "file_extension": ".py",
   "mimetype": "text/x-python",
   "name": "python",
   "nbconvert_exporter": "python",
   "pygments_lexer": "ipython3",
   "version": "3.10.6"
  },
  "orig_nbformat": 4,
  "vscode": {
   "interpreter": {
    "hash": "c6f1cccbeb977f6ae1ec9e111fdcd72db7d2888654be2fdfb8a0a12870be5e88"
   }
  }
 },
 "nbformat": 4,
 "nbformat_minor": 2
}
