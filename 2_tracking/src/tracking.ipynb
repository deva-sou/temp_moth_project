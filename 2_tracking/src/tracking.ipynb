{
 "cells": [
  {
   "attachments": {},
   "cell_type": "markdown",
   "metadata": {},
   "source": [
    "# Imports"
   ]
  },
  {
   "cell_type": "code",
   "execution_count": 1,
   "metadata": {},
   "outputs": [],
   "source": [
    "import pandas as pd\n",
    "import copy\n",
    "df_raw = pd.read_csv(\"~/code/moth_project/0_database/tracking/track_localize_classify_annotation-2022_05_13.csv\")"
   ]
  },
  {
   "cell_type": "code",
   "execution_count": 8,
   "metadata": {},
   "outputs": [],
   "source": [
    "def calculate_best_confidence_max_value(df,df_specific_id):\n",
    "    max_confidence_index = df_specific_id['confidence'].idxmax()\n",
    "    new_label = df.iloc[max_confidence_index,df.columns.get_loc(\"subclass\")]\n",
    "    return max_confidence_index,new_label\n",
    "\n",
    "def modify_label_confidence(df,df_specific_id):\n",
    "    #print(df_specific_id)\n",
    "    max_confidence_index,new_label = calculate_best_confidence_max_value(df,df_specific_id)\n",
    "    print('Selected label ', new_label)\n",
    "    df_specific_id = df_specific_id.drop(max_confidence_index)\n",
    "    for index, row in df_specific_id.iterrows():\n",
    "        df.iloc[index, df.columns.get_loc(\"subclass\")] = new_label\n",
    "        df.iloc[index, df.columns.get_loc(\"confidence\")] = 'smoothed'\n",
    "        \n",
    "\n",
    "def smoothing_confidence_with_tracking(df_raw):\n",
    "    df = df_raw.copy()\n",
    "    max_id_tracked = int(df['track_id'].max())\n",
    "    #max_id_tracked = 5\n",
    "    for track_id in range(1,max_id_tracked+1):\n",
    "        df_ids_raw = df[df['track_id'] == track_id]\n",
    "        #df.iloc[index_row_to_change, df.columns.get_loc(\"subclass\")] = df_ids.loc[df_ids['index'] == index_best_row, \"subclass\"]\n",
    "        #df_specific_id.loc[:, df.columns.get_loc(\"confidence\")] = df_specific_id.loc[:, df.columns.get_loc(\"confidence\")].astype('int64')\n",
    "        #print(df_specific_id)\n",
    "        if df_ids_raw.shape[0] > 1:\n",
    "            print(\"\\n\", df_ids_raw[['subclass','confidence']])\n",
    "            #print(\"1- Before conversion\\n\", df_ids_raw[['confidence']].dtypes)\n",
    "            df_specific_id = df_ids_raw.astype({'confidence': int})\n",
    "            #print(\"2- After conversion\\n\", df_specific_id[['confidence']].dtypes)\n",
    "            #print(f\"modifying track id{track_id}\")\n",
    "            modify_label_confidence(df,df_specific_id)\n",
    "            ##modify_label_confidence_using_max_value(df,df_ids_raw)\n",
    "            #print('done with id',track_id)\n",
    "        \n",
    "    return df"
   ]
  },
  {
   "cell_type": "code",
   "execution_count": 9,
   "metadata": {},
   "outputs": [
    {
     "name": "stdout",
     "output_type": "stream",
     "text": [
      "\n",
      "                     subclass  confidence\n",
      "109      Hyalophora cecropia          89\n",
      "114     Acleris flavivittana          20\n",
      "119  Korscheltellus gracilis          62\n"
     ]
    },
    {
     "ename": "IndexError",
     "evalue": "index 109 is out of bounds for axis 0 with size 3",
     "output_type": "error",
     "traceback": [
      "\u001b[0;31m---------------------------------------------------------------------------\u001b[0m",
      "\u001b[0;31mIndexError\u001b[0m                                Traceback (most recent call last)",
      "Cell \u001b[0;32mIn [9], line 1\u001b[0m\n\u001b[0;32m----> 1\u001b[0m df_modified \u001b[39m=\u001b[39m smoothing_confidence_with_tracking(df_raw)\n",
      "Cell \u001b[0;32mIn [8], line 31\u001b[0m, in \u001b[0;36msmoothing_confidence_with_tracking\u001b[0;34m(df_raw)\u001b[0m\n\u001b[1;32m     28\u001b[0m         df_specific_id \u001b[39m=\u001b[39m df_ids_raw\u001b[39m.\u001b[39mastype({\u001b[39m'\u001b[39m\u001b[39mconfidence\u001b[39m\u001b[39m'\u001b[39m: \u001b[39mint\u001b[39m})\n\u001b[1;32m     29\u001b[0m         \u001b[39m#print(\"2- After conversion\\n\", df_specific_id[['confidence']].dtypes)\u001b[39;00m\n\u001b[1;32m     30\u001b[0m         \u001b[39m#print(f\"modifying track id{track_id}\")\u001b[39;00m\n\u001b[0;32m---> 31\u001b[0m         modify_label_confidence(df,df_specific_id)\n\u001b[1;32m     32\u001b[0m         \u001b[39m##modify_label_confidence_using_max_value(df,df_ids_raw)\u001b[39;00m\n\u001b[1;32m     33\u001b[0m         \u001b[39m#print('done with id',track_id)\u001b[39;00m\n\u001b[1;32m     35\u001b[0m \u001b[39mreturn\u001b[39;00m df\n",
      "Cell \u001b[0;32mIn [8], line 8\u001b[0m, in \u001b[0;36mmodify_label_confidence\u001b[0;34m(df, df_specific_id)\u001b[0m\n\u001b[1;32m      6\u001b[0m \u001b[39mdef\u001b[39;00m \u001b[39mmodify_label_confidence\u001b[39m(df,df_specific_id):\n\u001b[1;32m      7\u001b[0m     \u001b[39m#print(df_specific_id)\u001b[39;00m\n\u001b[0;32m----> 8\u001b[0m     max_confidence_index,new_label \u001b[39m=\u001b[39m calculate_best_confidence_max_value(df,df_specific_id)\n\u001b[1;32m      9\u001b[0m     \u001b[39mprint\u001b[39m(\u001b[39m'\u001b[39m\u001b[39mSelected label \u001b[39m\u001b[39m'\u001b[39m, new_label)\n\u001b[1;32m     10\u001b[0m     df_specific_id \u001b[39m=\u001b[39m df_specific_id\u001b[39m.\u001b[39mdrop(max_confidence_index)\n",
      "Cell \u001b[0;32mIn [8], line 3\u001b[0m, in \u001b[0;36mcalculate_best_confidence_max_value\u001b[0;34m(df, df_specific_id)\u001b[0m\n\u001b[1;32m      1\u001b[0m \u001b[39mdef\u001b[39;00m \u001b[39mcalculate_best_confidence_max_value\u001b[39m(df,df_specific_id):\n\u001b[1;32m      2\u001b[0m     max_confidence_index \u001b[39m=\u001b[39m df_specific_id[\u001b[39m'\u001b[39m\u001b[39mconfidence\u001b[39m\u001b[39m'\u001b[39m]\u001b[39m.\u001b[39midxmax()\n\u001b[0;32m----> 3\u001b[0m     new_label \u001b[39m=\u001b[39m df_specific_id\u001b[39m.\u001b[39;49miloc[max_confidence_index,df_specific_id\u001b[39m.\u001b[39;49mcolumns\u001b[39m.\u001b[39;49mget_loc(\u001b[39m\"\u001b[39;49m\u001b[39msubclass\u001b[39;49m\u001b[39m\"\u001b[39;49m)]\n\u001b[1;32m      4\u001b[0m     \u001b[39mreturn\u001b[39;00m max_confidence_index,new_label\n",
      "File \u001b[0;32m~/.pyenv/versions/3.10.6/envs/venv_moth_project/lib/python3.10/site-packages/pandas/core/indexing.py:960\u001b[0m, in \u001b[0;36m_LocationIndexer.__getitem__\u001b[0;34m(self, key)\u001b[0m\n\u001b[1;32m    958\u001b[0m     key \u001b[39m=\u001b[39m \u001b[39mtuple\u001b[39m(com\u001b[39m.\u001b[39mapply_if_callable(x, \u001b[39mself\u001b[39m\u001b[39m.\u001b[39mobj) \u001b[39mfor\u001b[39;00m x \u001b[39min\u001b[39;00m key)\n\u001b[1;32m    959\u001b[0m     \u001b[39mif\u001b[39;00m \u001b[39mself\u001b[39m\u001b[39m.\u001b[39m_is_scalar_access(key):\n\u001b[0;32m--> 960\u001b[0m         \u001b[39mreturn\u001b[39;00m \u001b[39mself\u001b[39;49m\u001b[39m.\u001b[39;49mobj\u001b[39m.\u001b[39;49m_get_value(\u001b[39m*\u001b[39;49mkey, takeable\u001b[39m=\u001b[39;49m\u001b[39mself\u001b[39;49m\u001b[39m.\u001b[39;49m_takeable)\n\u001b[1;32m    961\u001b[0m     \u001b[39mreturn\u001b[39;00m \u001b[39mself\u001b[39m\u001b[39m.\u001b[39m_getitem_tuple(key)\n\u001b[1;32m    962\u001b[0m \u001b[39melse\u001b[39;00m:\n\u001b[1;32m    963\u001b[0m     \u001b[39m# we by definition only have the 0th axis\u001b[39;00m\n",
      "File \u001b[0;32m~/.pyenv/versions/3.10.6/envs/venv_moth_project/lib/python3.10/site-packages/pandas/core/frame.py:3613\u001b[0m, in \u001b[0;36mDataFrame._get_value\u001b[0;34m(self, index, col, takeable)\u001b[0m\n\u001b[1;32m   3611\u001b[0m \u001b[39mif\u001b[39;00m takeable:\n\u001b[1;32m   3612\u001b[0m     series \u001b[39m=\u001b[39m \u001b[39mself\u001b[39m\u001b[39m.\u001b[39m_ixs(col, axis\u001b[39m=\u001b[39m\u001b[39m1\u001b[39m)\n\u001b[0;32m-> 3613\u001b[0m     \u001b[39mreturn\u001b[39;00m series\u001b[39m.\u001b[39;49m_values[index]\n\u001b[1;32m   3615\u001b[0m series \u001b[39m=\u001b[39m \u001b[39mself\u001b[39m\u001b[39m.\u001b[39m_get_item_cache(col)\n\u001b[1;32m   3616\u001b[0m engine \u001b[39m=\u001b[39m \u001b[39mself\u001b[39m\u001b[39m.\u001b[39mindex\u001b[39m.\u001b[39m_engine\n",
      "\u001b[0;31mIndexError\u001b[0m: index 109 is out of bounds for axis 0 with size 3"
     ]
    }
   ],
   "source": [
    "df_modified = smoothing_confidence_with_tracking(df_raw)"
   ]
  },
  {
   "cell_type": "code",
   "execution_count": null,
   "metadata": {},
   "outputs": [
    {
     "name": "stdout",
     "output_type": "stream",
     "text": [
      "image            20220513203857-00-04.jpg\n",
      "track_id                              1.0\n",
      "bb_topleft_x                         1876\n",
      "bb_topleft_y                          641\n",
      "bb_botright_x                        1971\n",
      "bb_botright_y                         790\n",
      "bb_centre_x                          1923\n",
      "bb_centre_y                           715\n",
      "class                                moth\n",
      "subclass             Acleris flavivittana\n",
      "confidence                             20\n",
      "Name: 114, dtype: object\n",
      "image            20220513203857-00-04.jpg\n",
      "track_id                              1.0\n",
      "bb_topleft_x                         1876\n",
      "bb_topleft_y                          641\n",
      "bb_botright_x                        1971\n",
      "bb_botright_y                         790\n",
      "bb_centre_x                          1923\n",
      "bb_centre_y                           715\n",
      "class                                moth\n",
      "subclass              Hyalophora cecropia\n",
      "confidence                       smoothed\n",
      "Name: 114, dtype: object\n"
     ]
    }
   ],
   "source": [
    "print(df_raw.iloc[114])\n",
    "print(df_modified.iloc[114])"
   ]
  },
  {
   "cell_type": "code",
   "execution_count": 5,
   "metadata": {},
   "outputs": [],
   "source": [
    "df_modified.to_csv('test.csv')"
   ]
  },
  {
   "cell_type": "code",
   "execution_count": null,
   "metadata": {},
   "outputs": [],
   "source": []
  },
  {
   "cell_type": "code",
   "execution_count": null,
   "metadata": {},
   "outputs": [],
   "source": []
  },
  {
   "cell_type": "code",
   "execution_count": null,
   "metadata": {},
   "outputs": [],
   "source": []
  },
  {
   "attachments": {},
   "cell_type": "markdown",
   "metadata": {},
   "source": [
    "# MISC"
   ]
  },
  {
   "cell_type": "code",
   "execution_count": null,
   "metadata": {},
   "outputs": [],
   "source": [
    "def trackIDS(df):\n",
    "    pass\n",
    "def searching_for_same_species():\n",
    "    pass\n",
    "def calculate_threshold():\n",
    "    pass\n",
    "def modify_IDs():\n",
    "    pass\n",
    "def apply_IDs_modification():\n",
    "    searching_for_same_species()\n",
    "    calculate_threshold()\n",
    "    modify_IDs()\n",
    "    pass\n",
    "\n",
    "def test():\n",
    "    '''\n",
    "    TODO: \n",
    "    # As an input, I use one csv of a day of data.\n",
    "    1- Extract the track IDs of moths. \n",
    "    2- For each track ID, search on the image near by if another bbox with the same label and a good confidence score is here. Then calculate the cost function.\n",
    "    3- If cost function is below the threshold, apply the modification of the track ID on each image.\n",
    "    ! HOW:\n",
    "    # extract max id\n",
    "    # for each id extract confidence and labels\n",
    "    '''\n",
    "    #ids = trackIDS(df)\n",
    "    apply_IDs_modification()\n",
    "    \n",
    "    pass\n",
    "\n",
    "test()"
   ]
  }
 ],
 "metadata": {
  "kernelspec": {
   "display_name": "venv_moth_project",
   "language": "python",
   "name": "python3"
  },
  "language_info": {
   "codemirror_mode": {
    "name": "ipython",
    "version": 3
   },
   "file_extension": ".py",
   "mimetype": "text/x-python",
   "name": "python",
   "nbconvert_exporter": "python",
   "pygments_lexer": "ipython3",
   "version": "3.10.6"
  },
  "orig_nbformat": 4,
  "vscode": {
   "interpreter": {
    "hash": "1367256a1b697bda13cf1182dbbe4a5d0b31a9be7d5cfcef01ad1318d83fb521"
   }
  }
 },
 "nbformat": 4,
 "nbformat_minor": 2
}
