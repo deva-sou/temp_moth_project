{
 "cells": [
  {
   "attachments": {},
   "cell_type": "markdown",
   "metadata": {},
   "source": [
    "# Imports"
   ]
  },
  {
   "cell_type": "code",
   "execution_count": 1,
   "metadata": {},
   "outputs": [],
   "source": [
    "import pandas as pd\n",
    "import copy\n",
    "df_raw = pd.read_csv(\"~/code/moth_project/0_database/tracking/track_localize_classify_annotation-2022_05_13.csv\")"
   ]
  },
  {
   "cell_type": "code",
   "execution_count": 2,
   "metadata": {},
   "outputs": [],
   "source": [
    "def count_species(csv):\n",
    "    df = pd.read_csv(csv)\n",
    "    df_count = df.groupby(['subclass']).size().sort_values(ascending=False)\n",
    "    df_count.to_csv('count.txt',header=False)\n",
    "    return df_count\n",
    "\n",
    "def calculate_best_confidence_max_value(df,df_specific_id):\n",
    "    max_confidence_index = df_specific_id['confidence'].idxmax()\n",
    "    new_label = df.iloc[max_confidence_index,df.columns.get_loc(\"subclass\")]\n",
    "    return max_confidence_index,new_label\n",
    "\n",
    "def modify_label_confidence(df,df_specific_id):\n",
    "    max_confidence_index,new_label = calculate_best_confidence_max_value(df,df_specific_id)\n",
    "    #print('Selected label ', new_label)\n",
    "    for index, row in df_specific_id.iterrows():\n",
    "        if index != max_confidence_index:\n",
    "            df.iloc[index, df.columns.get_loc(\"subclass\")] = new_label\n",
    "            df.iloc[index, df.columns.get_loc(\"confidence\")] = 'smoothed'\n",
    "        \n",
    "\n",
    "def smoothing_confidence_with_tracking(df_raw):\n",
    "    '''\n",
    "    Use the tracking insect results to smooth the classification\n",
    "    \n",
    "    '''\n",
    "    df = df_raw.copy()\n",
    "    max_id_tracked = int(df['track_id'].max())\n",
    "    #max_id_tracked = 3\n",
    "    for track_id in range(1,max_id_tracked+1):\n",
    "        df_ids_raw = df[df['track_id'] == track_id]\n",
    "        if df_ids_raw.shape[0] > 1:\n",
    "            #print(\"\\n\", df_ids_raw[['subclass','confidence']])\n",
    "            df_specific_id = df_ids_raw.astype({'confidence': int}) # necessary, otherwise: confidence = object instead of int\n",
    "            modify_label_confidence(df,df_specific_id)\n",
    "    df_final = df.mask(df == '')\n",
    "    return df_final"
   ]
  },
  {
   "cell_type": "code",
   "execution_count": 3,
   "metadata": {},
   "outputs": [],
   "source": [
    "df_modified = smoothing_confidence_with_tracking(df_raw)"
   ]
  },
  {
   "cell_type": "code",
   "execution_count": 5,
   "metadata": {},
   "outputs": [
    {
     "data": {
      "text/plain": [
       "' print(df_raw.iloc[114])\\nprint(df_modified.iloc[114]) '"
      ]
     },
     "execution_count": 5,
     "metadata": {},
     "output_type": "execute_result"
    }
   ],
   "source": [
    "\"\"\" print(df_raw.iloc[114])\n",
    "print(df_modified.iloc[114]) \"\"\""
   ]
  },
  {
   "cell_type": "code",
   "execution_count": 6,
   "metadata": {},
   "outputs": [],
   "source": [
    "df_modified.to_csv('test.csv')"
   ]
  },
  {
   "cell_type": "code",
   "execution_count": null,
   "metadata": {},
   "outputs": [],
   "source": []
  }
 ],
 "metadata": {
  "kernelspec": {
   "display_name": "venv_moth_project",
   "language": "python",
   "name": "python3"
  },
  "language_info": {
   "codemirror_mode": {
    "name": "ipython",
    "version": 3
   },
   "file_extension": ".py",
   "mimetype": "text/x-python",
   "name": "python",
   "nbconvert_exporter": "python",
   "pygments_lexer": "ipython3",
   "version": "3.10.6"
  },
  "orig_nbformat": 4,
  "vscode": {
   "interpreter": {
    "hash": "1d7cdd5fd7cb0990a258a963a7ff515ef12aa7bfbc8b3d3d9f7763baa4fd38dc"
   }
  }
 },
 "nbformat": 4,
 "nbformat_minor": 2
}
