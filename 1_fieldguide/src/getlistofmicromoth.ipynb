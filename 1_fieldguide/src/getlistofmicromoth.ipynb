{
 "cells": [
  {
   "cell_type": "code",
   "execution_count": 3,
   "metadata": {},
   "outputs": [],
   "source": [
    "import pandas as pd"
   ]
  },
  {
   "cell_type": "code",
   "execution_count": 4,
   "metadata": {},
   "outputs": [
    {
     "name": "stdout",
     "output_type": "stream",
     "text": [
      "(3145, 4) (3271, 4)\n"
     ]
    }
   ],
   "source": [
    "df_raw_qc = pd.read_csv('/Users/devasou/code/temp_moth_project/src/database/datacount_quebec-vermont.csv')\n",
    "df_raw_uk = pd.read_csv('/Users/devasou/code/temp_moth_project/src/database/datacount_uk-denmark.csv')\n",
    "df_example_from_FG = pd.read_csv('/Users/devasou/code/temp_moth_project/src/database/Fieldguide Lep Species Example.csv')\n",
    "print(df_raw_qc.shape, df_raw_uk.shape)"
   ]
  },
  {
   "cell_type": "code",
   "execution_count": 5,
   "metadata": {},
   "outputs": [
    {
     "name": "stdout",
     "output_type": "stream",
     "text": [
      "['Cossidae', 'Drepanidae', 'Endromidae', 'Erebidae', 'Geometridae', 'Hepialidae', 'Lasiocampidae', 'Limacodidae', 'Noctuidae', 'Nolidae', 'Notodontidae', 'Saturniidae', 'Sesiidae', 'Sphingidae', 'Zygaenidae']\n"
     ]
    }
   ],
   "source": [
    "list_micro_moths = '''\n",
    "Cossidae\n",
    "Drepanidae\n",
    "Endromidae\n",
    "Erebidae\n",
    "Geometridae\n",
    "Hepialidae\n",
    "Lasiocampidae\n",
    "Limacodidae\n",
    "Noctuidae\n",
    "Nolidae\n",
    "Notodontidae\n",
    "Saturniidae\n",
    "Sesiidae\n",
    "Sphingidae\n",
    "Zygaenidae\n",
    "'''.split()\n",
    "print(list_micro_moths)\n"
   ]
  },
  {
   "cell_type": "code",
   "execution_count": null,
   "metadata": {},
   "outputs": [],
   "source": []
  }
 ],
 "metadata": {
  "kernelspec": {
   "display_name": "Python 3.9.6 64-bit",
   "language": "python",
   "name": "python3"
  },
  "language_info": {
   "codemirror_mode": {
    "name": "ipython",
    "version": 3
   },
   "file_extension": ".py",
   "mimetype": "text/x-python",
   "name": "python",
   "nbconvert_exporter": "python",
   "pygments_lexer": "ipython3",
   "version": "3.9.6"
  },
  "orig_nbformat": 4,
  "vscode": {
   "interpreter": {
    "hash": "31f2aee4e71d21fbe5cf8b01ff0e069b9275f58929596ceb00d14d90e3e16cd6"
   }
  }
 },
 "nbformat": 4,
 "nbformat_minor": 2
}
